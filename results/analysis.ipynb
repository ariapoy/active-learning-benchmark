{
 "cells": [
  {
   "cell_type": "markdown",
   "id": "a7fc0597-f8f1-444d-afec-918f8139a8c2",
   "metadata": {
    "tags": []
   },
   "source": [
    "# Benchmark of Active Learning"
   ]
  },
  {
   "cell_type": "markdown",
   "id": "790861dc-eec2-4c3e-ac8c-190ef837eb4b",
   "metadata": {
    "tags": []
   },
   "source": [
    "### tools"
   ]
  },
  {
   "cell_type": "code",
   "execution_count": 1,
   "id": "87474b05-6f51-4fd5-827c-d63e3537d29d",
   "metadata": {},
   "outputs": [],
   "source": [
    "import pandas as pd\n",
    "import os\n",
    "import numpy as np"
   ]
  },
  {
   "cell_type": "code",
   "execution_count": 2,
   "id": "145e1e7b-34cf-4725-9192-67bf44736736",
   "metadata": {},
   "outputs": [],
   "source": [
    "from scipy import stats"
   ]
  },
  {
   "cell_type": "code",
   "execution_count": 3,
   "id": "40e0e739-fcce-40a4-8fb9-ed2af537897b",
   "metadata": {},
   "outputs": [],
   "source": [
    "def align_idx(idxArr_list):\n",
    "    res = idxArr_list[0]\n",
    "    for idxArr in idxArr_list[1:]:\n",
    "        if idxArr is None:\n",
    "            continue\n",
    "\n",
    "        res = np.intersect1d(res, idxArr)\n",
    "    return res"
   ]
  },
  {
   "cell_type": "code",
   "execution_count": 4,
   "id": "b575062e-4b7f-4d49-bac9-dadabaa16012",
   "metadata": {},
   "outputs": [],
   "source": [
    "def tinterval_check(mean_poy, std_poy, n_poy, mean_XZ2021):\n",
    "    se = std_poy / np.sqrt(n_poy)\n",
    "    ci_95 = stats.t.interval(alpha=0.95, df=n_poy-1, loc=mean_poy, scale=se)\n",
    "    if ci_95[0] <= mean_XZ2021 <= ci_95[1]:\n",
    "        decision_95 = 0  # not significantly different with 95 confidence interval\n",
    "    else:\n",
    "        decision_95 = 1  # significantly different with 95 confidence interval\n",
    "\n",
    "    ci_99 = stats.t.interval(alpha=0.99, df=n_poy-1, loc=mean_poy, scale=se)\n",
    "    if ci_99[0] <= mean_XZ2021 <= ci_99[1]:\n",
    "        decision_99 = 0  # not significantly different with 95 confidence interval\n",
    "    else:\n",
    "        decision_99 = 1  # significantly different with 95 confidence interval\n",
    "\n",
    "    return decision_95, decision_99"
   ]
  },
  {
   "cell_type": "markdown",
   "id": "3f74db0f-873e-4501-9626-a3328c9bc711",
   "metadata": {},
   "source": [
    "### Download all results\n",
    "\n",
    "Link: [https://drive.google.com/file/d/1qzezDD_fe43ctNBHC4H5W0w6skJcBlxB/view?usp=share_link](https://drive.google.com/file/d/1qzezDD_fe43ctNBHC4H5W0w6skJcBlxB/view?usp=share_link)"
   ]
  },
  {
   "cell_type": "markdown",
   "id": "ff0cc287-1c7a-430e-b8e9-257706f134dd",
   "metadata": {
    "jp-MarkdownHeadingCollapsed": true,
    "tags": []
   },
   "source": [
    "## Align results\n",
    "\n",
    "We align all results on\n",
    "- small datasets $n < 2000$ : more than 100 indicis\n",
    "- large datasets $n \\geq 2000$ : more than 10 indicis."
   ]
  },
  {
   "cell_type": "code",
   "execution_count": 5,
   "id": "a4b801ea-6a78-4419-9035-080225fb2a4d",
   "metadata": {},
   "outputs": [],
   "source": [
    "qs_list = ['uniform', 'us', 'qbc', 'hintsvm', 'quire', 'albl', 'dwus', 'vr', 'kcenter',  # libact\n",
    "           'margin', 'graph', 'hier', 'infodiv', 'mcm',  # google\n",
    "           'eer', 'bmdr', 'spal', 'lal',  # alipy\n",
    "           'bsoDtst']\n",
    "small_data_list = [\"appendicitis\", \"sonar\", \"parkinsons\", \"ex8b\", \"heart\", \"haberman\", \"ionosphere\", \"clean1\",\n",
    "             \"breast\", \"wdbc\", \"australian\", \"diabetes\", \"mammographic\", \"ex8a\", \"tic\", \"german\",\n",
    "             \"splice\", \"gcloudb\", \"gcloudub\", \"checkerboard\"]\n",
    "large_data_list = [\"spambase\", \"banana\", \"phoneme\", \"ringnorm\", \"twonorm\", \"phishing\"]\n",
    "data_list = small_data_list + large_data_list"
   ]
  },
  {
   "cell_type": "code",
   "execution_count": 6,
   "id": "76b6feb1-eabb-4b09-81cd-189b2b5fcfd1",
   "metadata": {},
   "outputs": [],
   "source": [
    "names = os.listdir('./aubc/')\n",
    "qs_map_pos = {k: i for i, k in enumerate(qs_list)}\n",
    "table3_idx = {k: [None for _ in range(len(qs_list))] for k in data_list}"
   ]
  },
  {
   "cell_type": "code",
   "execution_count": 7,
   "id": "cf4b58b7-010d-4888-bb96-de0ddf7096c7",
   "metadata": {},
   "outputs": [
    {
     "name": "stdout",
     "output_type": "stream",
     "text": [
      "clean1-vr: 8 < 100 times\n",
      "phoneme-vr: 6 < 10 times\n",
      "checkerboard-spal: 96 < 100 times\n",
      "spambase-quire: 1 < 10 times\n"
     ]
    }
   ],
   "source": [
    "for name in names:\n",
    "    if not name.endswith('.csv'):\n",
    "        continue\n",
    "    terms = name.split('-')\n",
    "    if 'look' in name:\n",
    "        qs = terms[1] + terms[6].split('_')[-1][-4:]\n",
    "    else:\n",
    "        qs = terms[1]\n",
    "\n",
    "    data = terms[0]\n",
    "\n",
    "    res = pd.read_csv(os.path.join('./aubc/', name))\n",
    "\n",
    "    idx = res['res_expno'].unique()\n",
    "\n",
    "    if data in large_data_list:\n",
    "        if len(idx) < 10:\n",
    "            print(f'{data}-{qs}: {len(idx)} < 10 times')\n",
    "            continue\n",
    "    else:\n",
    "        if len(idx) < 100:\n",
    "            print(f'{data}-{qs}: {len(idx)} < 100 times')\n",
    "            continue\n",
    "\n",
    "    table3_idx[data][qs_map_pos[qs]] = idx"
   ]
  },
  {
   "cell_type": "code",
   "execution_count": 8,
   "id": "c17b4c86-a1ae-4532-b882-835724a630f9",
   "metadata": {},
   "outputs": [],
   "source": [
    "aligned_idx = []\n",
    "for data in table3_idx:\n",
    "    align_idx_arr = align_idx(table3_idx[data])\n",
    "    n_exp = len(align_idx_arr)\n",
    "    if data in large_data_list:\n",
    "        align_idx_arr = align_idx_arr[:10]\n",
    "        assert align_idx_arr.shape[0] == 10, f'Size of {data} is not correct. {(align_idx_arr.shape[0])}'\n",
    "    else:\n",
    "        align_idx_arr = align_idx_arr[:100]\n",
    "        assert align_idx_arr.shape[0] == 100, f'Size of {data} is not correct. {(align_idx_arr.shape[0])}'\n",
    "\n",
    "    aligned_idx.append([data, n_exp, f'{align_idx_arr.tolist()}'])\n",
    "\n",
    "aligned_idx = pd.DataFrame(aligned_idx)\n",
    "# aligned_idx.to_csv('output/aligned_idx.csv')"
   ]
  },
  {
   "cell_type": "code",
   "execution_count": 9,
   "id": "ea923836-5ea8-4562-b13a-cbce10468977",
   "metadata": {},
   "outputs": [
    {
     "data": {
      "text/html": [
       "<div>\n",
       "<style scoped>\n",
       "    .dataframe tbody tr th:only-of-type {\n",
       "        vertical-align: middle;\n",
       "    }\n",
       "\n",
       "    .dataframe tbody tr th {\n",
       "        vertical-align: top;\n",
       "    }\n",
       "\n",
       "    .dataframe thead th {\n",
       "        text-align: right;\n",
       "    }\n",
       "</style>\n",
       "<table border=\"1\" class=\"dataframe\">\n",
       "  <thead>\n",
       "    <tr style=\"text-align: right;\">\n",
       "      <th></th>\n",
       "      <th>0</th>\n",
       "      <th>1</th>\n",
       "      <th>2</th>\n",
       "    </tr>\n",
       "  </thead>\n",
       "  <tbody>\n",
       "    <tr>\n",
       "      <th>0</th>\n",
       "      <td>appendicitis</td>\n",
       "      <td>150</td>\n",
       "      <td>[0, 1, 2, 3, 4, 5, 6, 7, 8, 9, 10, 11, 12, 13,...</td>\n",
       "    </tr>\n",
       "    <tr>\n",
       "      <th>1</th>\n",
       "      <td>sonar</td>\n",
       "      <td>140</td>\n",
       "      <td>[0, 1, 2, 3, 4, 5, 6, 7, 8, 9, 10, 11, 12, 13,...</td>\n",
       "    </tr>\n",
       "    <tr>\n",
       "      <th>2</th>\n",
       "      <td>parkinsons</td>\n",
       "      <td>150</td>\n",
       "      <td>[0, 1, 2, 3, 4, 5, 6, 7, 8, 9, 10, 11, 12, 13,...</td>\n",
       "    </tr>\n",
       "    <tr>\n",
       "      <th>3</th>\n",
       "      <td>ex8b</td>\n",
       "      <td>148</td>\n",
       "      <td>[0, 1, 2, 3, 4, 5, 6, 7, 9, 10, 11, 12, 13, 14...</td>\n",
       "    </tr>\n",
       "    <tr>\n",
       "      <th>4</th>\n",
       "      <td>heart</td>\n",
       "      <td>150</td>\n",
       "      <td>[0, 1, 2, 3, 4, 5, 6, 7, 8, 9, 10, 11, 12, 13,...</td>\n",
       "    </tr>\n",
       "  </tbody>\n",
       "</table>\n",
       "</div>"
      ],
      "text/plain": [
       "              0    1                                                  2\n",
       "0  appendicitis  150  [0, 1, 2, 3, 4, 5, 6, 7, 8, 9, 10, 11, 12, 13,...\n",
       "1         sonar  140  [0, 1, 2, 3, 4, 5, 6, 7, 8, 9, 10, 11, 12, 13,...\n",
       "2    parkinsons  150  [0, 1, 2, 3, 4, 5, 6, 7, 8, 9, 10, 11, 12, 13,...\n",
       "3          ex8b  148  [0, 1, 2, 3, 4, 5, 6, 7, 9, 10, 11, 12, 13, 14...\n",
       "4         heart  150  [0, 1, 2, 3, 4, 5, 6, 7, 8, 9, 10, 11, 12, 13,..."
      ]
     },
     "execution_count": 9,
     "metadata": {},
     "output_type": "execute_result"
    }
   ],
   "source": [
    "aligned_idx.head()"
   ]
  },
  {
   "cell_type": "markdown",
   "id": "6784a16b-b879-4d7b-a829-d2dd1a34c3cb",
   "metadata": {
    "tags": []
   },
   "source": [
    "## Mean AUBCs\n",
    "\n",
    "- small datasets $n < 2000$ : only use first 100 indicis\n",
    "- large datasets $n \\geq 2000$ : only use first 10 indicis.\n",
    "\n",
    "Calculate average (mean) and standard deviation of AUBCs."
   ]
  },
  {
   "cell_type": "code",
   "execution_count": 10,
   "id": "4c7dd54c-399b-4c9e-8509-528aaa7d92b1",
   "metadata": {},
   "outputs": [],
   "source": [
    "aligned_idx_dict = {}\n",
    "for data, idx in zip(aligned_idx[0], aligned_idx[2]):\n",
    "    aligned_idx_dict[data] = eval(idx)"
   ]
  },
  {
   "cell_type": "code",
   "execution_count": 11,
   "id": "7608abea-527e-498c-9c53-cf8e2176ccc1",
   "metadata": {},
   "outputs": [],
   "source": [
    "table3_mean = []\n",
    "table3_std = []\n",
    "index = []\n",
    "for name in names:\n",
    "    if not name.endswith('.csv'):\n",
    "        continue\n",
    "\n",
    "    terms = name.split('-')\n",
    "    if 'look' in name:\n",
    "        qs = terms[1] + terms[6].split('_')[-1][-4:]\n",
    "    else:\n",
    "        qs = terms[1]\n",
    "\n",
    "    data = terms[0]\n",
    "\n",
    "    if (data, qs) in index:\n",
    "        breakpoint()\n",
    "\n",
    "    index.append((data, qs))\n",
    "    res = pd.read_csv(os.path.join('./aubc/', name))\n",
    "\n",
    "    # aligned index\n",
    "    if aligned_idx_dict is not None:\n",
    "        res = res[res['res_expno'].isin(aligned_idx_dict[data])]\n",
    "\n",
    "    cnt_aubc = res['res_tst_score'].count()\n",
    "    if data in large_data_list:\n",
    "        if cnt_aubc < 10:\n",
    "            continue\n",
    "    else:\n",
    "        if cnt_aubc < 100:\n",
    "            continue\n",
    "\n",
    "    mean_aubc = res['res_tst_score'].mean()\n",
    "    std_aubc = res['res_tst_score'].std()\n",
    "    mean_aubc = round(mean_aubc, 4)\n",
    "    std_aubc = round(std_aubc, 4)\n",
    "\n",
    "    table3_mean.append([data, qs, mean_aubc])\n",
    "    table3_std.append([data, qs, std_aubc])"
   ]
  },
  {
   "cell_type": "code",
   "execution_count": 12,
   "id": "2724309c-7002-4342-b694-e03a6299fb04",
   "metadata": {},
   "outputs": [],
   "source": [
    "table3_mean = pd.DataFrame(table3_mean)\n",
    "table3_std = pd.DataFrame(table3_std)\n",
    "\n",
    "table3_mean.columns = ['data', 'qs', 'aubc_mean']\n",
    "table3_std.columns = ['data', 'qs', 'aubc_std']\n",
    "\n",
    "table3_mean = pd.pivot(table3_mean, values='aubc_mean', index=['qs'], columns=['data'])\n",
    "table3_std = pd.pivot(table3_std, values='aubc_std', index=['qs'], columns=['data'])"
   ]
  },
  {
   "cell_type": "code",
   "execution_count": 13,
   "id": "f2b20383-5078-4f7c-8c8b-8bc22ca76b81",
   "metadata": {},
   "outputs": [],
   "source": [
    "table3_mean = table3_mean.reindex(index=qs_list, columns=data_list)\n",
    "table3_std = table3_std.reindex(index=qs_list, columns=data_list)"
   ]
  },
  {
   "cell_type": "markdown",
   "id": "ba1af9fe-8d86-4019-b13a-cbd1e73bac8a",
   "metadata": {},
   "source": [
    "Export to LaTeX."
   ]
  },
  {
   "cell_type": "code",
   "execution_count": 14,
   "id": "875aa649-9222-4e16-8183-c7d89282ee60",
   "metadata": {},
   "outputs": [],
   "source": [
    "al_methods = qs_list[1:-1]"
   ]
  },
  {
   "cell_type": "code",
   "execution_count": 15,
   "id": "4e505ebe-ad08-4f6a-8a50-812cc6f52280",
   "metadata": {},
   "outputs": [],
   "source": [
    "# largest three values in each column\n",
    "# make them as bold, bold, underline\n",
    "lbracebracket = f'{chr(123)}'\n",
    "rbracebracket = f'{chr(125)}'\n",
    "tbf = f'{chr(92)}textbf'\n",
    "tit = f'{chr(92)}textit'\n",
    "udl = f'{chr(92)}underline'\n",
    "# str of mean and std AUBCs\n",
    "report1_mean = table3_mean.astype(str)\n",
    "report1_std = table3_std.astype(str)\n",
    "for d in table3_mean.columns:\n",
    "    bst_q = table3_mean.loc[al_methods, d].nlargest(3+1).index  # as margin == infodiv in the current setting\n",
    "    if 'infodiv' not in bst_q:\n",
    "        bst_q = bst_q[:3]\n",
    "    else:\n",
    "        bst_q = bst_q.drop('infodiv')\n",
    "\n",
    "    report1_mean.loc[bst_q[0], d] = f'{tbf}{lbracebracket}{tit}{lbracebracket}{report1_mean.loc[bst_q[0], d]}{rbracebracket}{rbracebracket}'\n",
    "    report1_mean.loc[bst_q[1], d] = f'{tbf}{lbracebracket}{report1_mean.loc[bst_q[1], d]}{rbracebracket}'\n",
    "    report1_mean.loc[bst_q[2], d] = f'{tit}{lbracebracket}{report1_mean.loc[bst_q[2], d]}{rbracebracket}'\n",
    "\n",
    "    bst_q_std = table3_std.loc[al_methods, d].nsmallest(3+1).index\n",
    "    if 'infodiv' not in bst_q_std:\n",
    "        bst_q_std = bst_q_std[:3]\n",
    "    else:\n",
    "        bst_q_std = bst_q_std.drop('infodiv')\n",
    "\n",
    "    report1_std.loc[bst_q_std[0], d] = f'{tbf}{lbracebracket}{tit}{lbracebracket}{report1_std.loc[bst_q_std[0], d]}{rbracebracket}{rbracebracket}'\n",
    "    report1_std.loc[bst_q_std[1], d] = f'{tbf}{lbracebracket}{tit}{lbracebracket}{report1_std.loc[bst_q_std[1], d]}{rbracebracket}{rbracebracket}'\n",
    "    report1_std.loc[bst_q_std[2], d] = f'{tbf}{lbracebracket}{tit}{lbracebracket}{report1_std.loc[bst_q_std[2], d]}{rbracebracket}{rbracebracket}'"
   ]
  },
  {
   "cell_type": "code",
   "execution_count": 16,
   "id": "33765144-203d-4bd5-a0d9-a683c9cecbcb",
   "metadata": {},
   "outputs": [],
   "source": [
    "report1 = report1_mean + '(' + report1_std + ')'\n",
    "report_index = ['uniform', 'us', 'qbc', 'hintsvm', 'quire', 'albl', 'dwus', 'vr',\n",
    "                'kcenter', 'margin', 'graph', 'hier', 'infodiv', 'mcm', 'eer', 'bmdr',\n",
    "                'spal', 'lal', 'bsoDtst']\n",
    "report1 = report1.loc[report_index, :]\n",
    "report1.index = ['uniform', 'us', 'qbc', 'hintsvm', 'quire', 'albl', 'dwus', 'vr',\n",
    "                'kcenter', 'margin', 'graph', 'hier', 'infodiv', 'mcm', 'eer', 'bmdr',\n",
    "                'spal', 'lal', 'bso']\n",
    "\n",
    "report1 = report1.T"
   ]
  },
  {
   "cell_type": "code",
   "execution_count": 17,
   "id": "6f35d91c-70f7-4ecd-b0c5-e76a641293d8",
   "metadata": {},
   "outputs": [],
   "source": [
    "report1 = report1.replace(to_replace='nan(nan)', value='too long (time)')"
   ]
  },
  {
   "cell_type": "code",
   "execution_count": 18,
   "id": "48142bcd-3a86-43ce-bb5c-7d5b1fd0c6aa",
   "metadata": {},
   "outputs": [],
   "source": [
    "# checkerboard-spal: 96 < 100 times\n",
    "# spambase-quire: 1 < 10 times\n",
    "report1.loc['checkerboard', 'spal'] = 'error'\n",
    "report1.loc['spambase', 'quire'] = 'error'"
   ]
  },
  {
   "cell_type": "code",
   "execution_count": 19,
   "id": "4f6a389e-dd3c-4914-a343-df2e5bc66397",
   "metadata": {},
   "outputs": [],
   "source": [
    "# Add XZ2021 results\n",
    "xz2021_table3 = pd.read_csv('table3-xz2021.csv')\n",
    "xz2021_table3 = xz2021_table3.set_index('XZ2021')"
   ]
  },
  {
   "cell_type": "code",
   "execution_count": 20,
   "id": "fd41dee1-f242-4791-b978-db100fe006a7",
   "metadata": {},
   "outputs": [],
   "source": [
    "xz2021_table3_data = xz2021_table3.index\n",
    "for d in xz2021_table3_data:\n",
    "    qs = xz2021_table3.loc[d, 'BEST_mhd']\n",
    "    report1.loc[d, qs] = f'{udl}{lbracebracket}{report1.loc[d, qs]}{rbracebracket}'\n",
    "    qs = xz2021_table3.loc[d, 'WORST_mhd']\n",
    "    report1.loc[d, qs] = f'{udl}{lbracebracket}{report1.loc[d, qs]}{rbracebracket}'\n",
    "    qs = 'uniform'\n",
    "    report1.loc[d, qs] = f'{udl}{lbracebracket}{report1.loc[d, qs]}{rbracebracket}'\n",
    "    qs = 'bso'\n",
    "    report1.loc[d, qs] = f'{udl}{lbracebracket}{report1.loc[d, qs]}{rbracebracket}'"
   ]
  },
  {
   "cell_type": "code",
   "execution_count": 21,
   "id": "0651283e-c8d0-4c62-9077-35fe72027f49",
   "metadata": {},
   "outputs": [],
   "source": [
    "with pd.option_context(\"max_colwidth\", -1):\n",
    "    for i, col_i in enumerate(range(0, 24, 6)):\n",
    "        report1.iloc[:, col_i:col_i+6].to_latex(f'./aubc/output/table1-intermediate-{i}.tex',\n",
    "                                                position='h',\n",
    "                                                caption='Intermediate table of mean(std) AUBCs',\n",
    "                                                escape=False)"
   ]
  },
  {
   "cell_type": "markdown",
   "id": "96f3ed03-55de-43e4-9794-dc5c8efd5979",
   "metadata": {
    "tags": []
   },
   "source": [
    "## Reproducibility of Table 3\n",
    "\n",
    "We check whether mean of AUBCs in [Zhan et al., 2021] locating in\n",
    "- confidence interval with $\\alpha=0.05$ significance level.\n",
    "- confidence interval with $\\alpha=0.01$ significance level.\n",
    "\n",
    "We suppose both of experiments have the same settings.\n",
    "They will generate independent, identical distribution (i.i.d.) results.\n",
    "\n",
    "*ChatGPT*\n",
    "> If you have the mean of one sample and you want to compare it to the median of another sample, you can use the confidence interval for the mean of the first sample to see if the median of the second sample falls within the interval. This will give you an idea of whether the median of the second sample is significantly different from the mean of the first sample, but it will not be the same as the Mann-Whitney U test, which compares the medians of two independent samples.\n",
    "> This will calculate the 95% confidence interval for the mean of the first sample. You can then compare the median of the second sample to this interval to see if it falls within the interval. If the median falls within the interval, it suggests that the median is not significantly different from the mean of the first sample. If the median falls outside the interval, it suggests that the median is significantly different from the mean of the first sample.\n",
    "> Keep in mind that this approach will give you an idea of whether the median of the second sample is significantly different from the mean of the first sample, but it will not provide a formal hypothesis test or p-value like the Mann-Whitney U test."
   ]
  },
  {
   "cell_type": "code",
   "execution_count": 22,
   "id": "99eb4f38-588f-416e-bda6-033acec05236",
   "metadata": {},
   "outputs": [
    {
     "data": {
      "text/html": [
       "<div>\n",
       "<style scoped>\n",
       "    .dataframe tbody tr th:only-of-type {\n",
       "        vertical-align: middle;\n",
       "    }\n",
       "\n",
       "    .dataframe tbody tr th {\n",
       "        vertical-align: top;\n",
       "    }\n",
       "\n",
       "    .dataframe thead th {\n",
       "        text-align: right;\n",
       "    }\n",
       "</style>\n",
       "<table border=\"1\" class=\"dataframe\">\n",
       "  <thead>\n",
       "    <tr style=\"text-align: right;\">\n",
       "      <th></th>\n",
       "      <th>uniform</th>\n",
       "      <th>bsoDtst</th>\n",
       "      <th>Avg</th>\n",
       "      <th>BEST_val</th>\n",
       "      <th>BEST_mhd</th>\n",
       "      <th>WORST_val</th>\n",
       "      <th>WORST_mhd</th>\n",
       "    </tr>\n",
       "    <tr>\n",
       "      <th>XZ2021</th>\n",
       "      <th></th>\n",
       "      <th></th>\n",
       "      <th></th>\n",
       "      <th></th>\n",
       "      <th></th>\n",
       "      <th></th>\n",
       "      <th></th>\n",
       "    </tr>\n",
       "  </thead>\n",
       "  <tbody>\n",
       "    <tr>\n",
       "      <th>appendicitis</th>\n",
       "      <td>0.836</td>\n",
       "      <td>0.881</td>\n",
       "      <td>0.844</td>\n",
       "      <td>0.859</td>\n",
       "      <td>eer</td>\n",
       "      <td>0.826</td>\n",
       "      <td>dwus</td>\n",
       "    </tr>\n",
       "    <tr>\n",
       "      <th>sonar</th>\n",
       "      <td>0.617</td>\n",
       "      <td>0.830</td>\n",
       "      <td>0.755</td>\n",
       "      <td>0.775</td>\n",
       "      <td>lal</td>\n",
       "      <td>0.732</td>\n",
       "      <td>hintsvm</td>\n",
       "    </tr>\n",
       "    <tr>\n",
       "      <th>parkinsons</th>\n",
       "      <td>0.840</td>\n",
       "      <td>0.865</td>\n",
       "      <td>0.845</td>\n",
       "      <td>0.858</td>\n",
       "      <td>qbc</td>\n",
       "      <td>0.829</td>\n",
       "      <td>hintsvm</td>\n",
       "    </tr>\n",
       "    <tr>\n",
       "      <th>ex8b</th>\n",
       "      <td>0.866</td>\n",
       "      <td>0.924</td>\n",
       "      <td>0.890</td>\n",
       "      <td>0.909</td>\n",
       "      <td>spal</td>\n",
       "      <td>0.864</td>\n",
       "      <td>hintsvm</td>\n",
       "    </tr>\n",
       "    <tr>\n",
       "      <th>heart</th>\n",
       "      <td>0.808</td>\n",
       "      <td>0.848</td>\n",
       "      <td>0.787</td>\n",
       "      <td>0.830</td>\n",
       "      <td>infodiv</td>\n",
       "      <td>0.718</td>\n",
       "      <td>dwus</td>\n",
       "    </tr>\n",
       "  </tbody>\n",
       "</table>\n",
       "</div>"
      ],
      "text/plain": [
       "              uniform  bsoDtst    Avg  BEST_val BEST_mhd  WORST_val WORST_mhd\n",
       "XZ2021                                                                       \n",
       "appendicitis    0.836    0.881  0.844     0.859      eer      0.826      dwus\n",
       "sonar           0.617    0.830  0.755     0.775      lal      0.732   hintsvm\n",
       "parkinsons      0.840    0.865  0.845     0.858      qbc      0.829   hintsvm\n",
       "ex8b            0.866    0.924  0.890     0.909     spal      0.864   hintsvm\n",
       "heart           0.808    0.848  0.787     0.830  infodiv      0.718      dwus"
      ]
     },
     "execution_count": 22,
     "metadata": {},
     "output_type": "execute_result"
    }
   ],
   "source": [
    "xz2021_table3.columns = ['uniform', 'bsoDtst', 'Avg', 'BEST_val', 'BEST_mhd', 'WORST_val', 'WORST_mhd']\n",
    "xz2021_table3.head()"
   ]
  },
  {
   "cell_type": "code",
   "execution_count": 23,
   "id": "29bbd9c4-98b4-4567-9559-b267c6932665",
   "metadata": {},
   "outputs": [
    {
     "data": {
      "text/plain": [
       "(0.7463, 0.0379)"
      ]
     },
     "execution_count": 23,
     "metadata": {},
     "output_type": "execute_result"
    }
   ],
   "source": [
    "table3_mean.loc['uniform', 'sonar'], table3_std.loc['uniform', 'sonar']"
   ]
  },
  {
   "cell_type": "code",
   "execution_count": 24,
   "id": "1d53b223-002f-48a7-9a5f-a5aee053c7b0",
   "metadata": {},
   "outputs": [
    {
     "data": {
      "text/plain": [
       "(1, 1)"
      ]
     },
     "execution_count": 24,
     "metadata": {},
     "output_type": "execute_result"
    }
   ],
   "source": [
    "res = tinterval_check(table3_mean.loc['uniform', 'ionosphere'], table3_std.loc['uniform', 'ionosphere'], 100,\n",
    "                      xz2021_table3.loc['ionosphere', 'uniform'])\n",
    "res"
   ]
  },
  {
   "cell_type": "code",
   "execution_count": 25,
   "id": "89c741d1-1999-46d9-8139-c7b7725b12da",
   "metadata": {},
   "outputs": [],
   "source": [
    "report2 = xz2021_table3.copy().applymap(lambda x: None)"
   ]
  },
  {
   "cell_type": "code",
   "execution_count": 26,
   "id": "2f3229ae-8e44-48de-9d54-d520acd38e67",
   "metadata": {},
   "outputs": [],
   "source": [
    "# 1. deal with uniform and bso\n",
    "for qs_name in ['uniform', 'bsoDtst']:\n",
    "    for data_name in report2.index:\n",
    "        if data_name in large_data_list:\n",
    "            n_samples = 10\n",
    "        else:\n",
    "            n_samples = 100\n",
    "\n",
    "        if np.isnan(xz2021_table3.loc[data_name, qs_name]):\n",
    "            continue\n",
    "            \n",
    "        d_95, d_99 = tinterval_check(\n",
    "            table3_mean.loc[qs_name, data_name],\n",
    "            table3_std.loc[qs_name, data_name],\n",
    "            n_samples,\n",
    "            xz2021_table3.loc[data_name, qs_name]\n",
    "        )\n",
    "\n",
    "        # update value with Poy's results\n",
    "        report2.loc[data_name, qs_name] = table3_mean.loc[qs_name, data_name]\n",
    "\n",
    "        # show results\n",
    "        if d_95 == 1:\n",
    "            report2.loc[data_name, qs_name] = f'{report2.loc[data_name, qs_name]}*'\n",
    "\n",
    "        if d_99 == 1:\n",
    "            report2.loc[data_name, qs_name] = f'{report2.loc[data_name, qs_name]}*'"
   ]
  },
  {
   "cell_type": "code",
   "execution_count": 27,
   "id": "b4983177-c608-4c03-9466-0786a5a43ffd",
   "metadata": {},
   "outputs": [],
   "source": [
    "# 2. deal with Avg\n",
    "report2_avg = table3_mean.loc[al_methods, :].mean().round(4)\n",
    "report2_avg_std = table3_mean.loc[al_methods, :].std().round(6)\n",
    "report2_avg_cnt = len(al_methods)"
   ]
  },
  {
   "cell_type": "code",
   "execution_count": 28,
   "id": "47b3c7d5-6ca2-405c-b994-dc6c29704e2f",
   "metadata": {},
   "outputs": [],
   "source": [
    "col = 'Avg'\n",
    "for data_name in report2.index:\n",
    "    if np.isnan(xz2021_table3.loc[data_name, col]):\n",
    "        continue\n",
    "\n",
    "    d_95_avg, d_99_avg = tinterval_check(\n",
    "        report2_avg.loc[data_name],\n",
    "        report2_avg_std.loc[data_name],\n",
    "        report2_avg_cnt,\n",
    "        xz2021_table3.loc[data_name, col]\n",
    "    )\n",
    "\n",
    "    # update value with Poy's results\n",
    "    report2.loc[data_name, col] = report2_avg.loc[data_name]\n",
    "\n",
    "    # show results\n",
    "    if d_95_avg == 1:\n",
    "        report2.loc[data_name, col] = f'{report2.loc[data_name, col]}*'\n",
    "\n",
    "    if d_99_avg == 1:\n",
    "        report2.loc[data_name, col] = f'{report2.loc[data_name, col]}*'"
   ]
  },
  {
   "cell_type": "code",
   "execution_count": 29,
   "id": "161d56dc-59c1-4250-94fb-75282c43548d",
   "metadata": {},
   "outputs": [],
   "source": [
    "for data_name in report2.index:\n",
    "    # update value with Poy's results\n",
    "    qs_name = table3_mean.loc[al_methods, data_name].idxmax()\n",
    "    report2.loc[data_name, 'BEST_val'] = table3_mean.loc[qs_name, data_name]\n",
    "    if xz2021_table3.loc[data_name, 'BEST_mhd'] != qs_name:\n",
    "        report2.loc[data_name, 'BEST_mhd'] = f'{qs_name}*'\n",
    "    else:\n",
    "        report2.loc[data_name, 'BEST_mhd'] = qs_name"
   ]
  },
  {
   "cell_type": "code",
   "execution_count": 30,
   "id": "6c28d541-e142-4cde-8875-063d05283c2e",
   "metadata": {},
   "outputs": [],
   "source": [
    "for data_name in report2.index:\n",
    "    # update value with Poy's results\n",
    "    qs_name = table3_mean.loc[al_methods, data_name].idxmin()\n",
    "    report2.loc[data_name, 'WORST_val'] = table3_mean.loc[qs_name, data_name]\n",
    "    if xz2021_table3.loc[data_name, 'WORST_mhd'] != qs_name:\n",
    "        report2.loc[data_name, 'WORST_mhd'] = f'{qs_name}*'\n",
    "    else:\n",
    "        report2.loc[data_name, 'WORST_mhd'] = qs_name"
   ]
  },
  {
   "cell_type": "code",
   "execution_count": 31,
   "id": "2e24b1f8-2d1b-4d18-aa20-a95743d12abb",
   "metadata": {},
   "outputs": [],
   "source": [
    "# update columns\n",
    "report2.columns = ['RS', 'BSO', 'Avg', 'BEST_val', 'BEST_mhd', 'WORST_val', 'WORST_mhd']\n",
    "report2.to_latex('./aubc/output/table2-table3.tex',\n",
    "                 position='h',\n",
    "                 label='tab2:tab3',\n",
    "                 caption='Reporduce of Table 3~\\\\citep{XZ2021}')"
   ]
  }
 ],
 "metadata": {
  "kernelspec": {
   "display_name": "al-benchmark",
   "language": "python",
   "name": "al-benchmark"
  },
  "language_info": {
   "codemirror_mode": {
    "name": "ipython",
    "version": 3
   },
   "file_extension": ".py",
   "mimetype": "text/x-python",
   "name": "python",
   "nbconvert_exporter": "python",
   "pygments_lexer": "ipython3",
   "version": "3.10.6"
  }
 },
 "nbformat": 4,
 "nbformat_minor": 5
}
